{
 "cells": [
  {
   "cell_type": "code",
   "execution_count": null,
   "metadata": {},
   "outputs": [],
   "source": [
    "import numpy as np\n",
    "import os\n",
    "import time"
   ]
  },
  {
   "cell_type": "code",
   "execution_count": null,
   "metadata": {},
   "outputs": [],
   "source": [
    "import meshcat\n",
    "import meshcat.visualizer as v\n",
    "import meshcat.geometry as g\n",
    "import meshcat.transformations as tf"
   ]
  },
  {
   "cell_type": "code",
   "execution_count": null,
   "metadata": {},
   "outputs": [],
   "source": [
    "vis = v.Visualizer()\n",
    "\n",
    "vis.jupyter_cell()"
   ]
  },
  {
   "cell_type": "code",
   "execution_count": null,
   "metadata": {},
   "outputs": [],
   "source": [
    "vis"
   ]
  },
  {
   "cell_type": "code",
   "execution_count": null,
   "metadata": {},
   "outputs": [],
   "source": [
    "vis[\"boxes/box1\"]"
   ]
  },
  {
   "cell_type": "code",
   "execution_count": null,
   "metadata": {},
   "outputs": [],
   "source": [
    "vis[\"box\"].set_object(g.Box([0.2, 0.1, 0.1]))"
   ]
  },
  {
   "cell_type": "code",
   "execution_count": null,
   "metadata": {},
   "outputs": [],
   "source": [
    "for theta in np.linspace(0, 2 * np.pi, 200):\n",
    "    vis[\"box\"].set_transform(tf.rotation_matrix(theta, [0, 0, 1]))\n",
    "    time.sleep(0.005)"
   ]
  },
  {
   "cell_type": "code",
   "execution_count": null,
   "metadata": {},
   "outputs": [],
   "source": [
    "vis[\"box\"].delete()"
   ]
  },
  {
   "cell_type": "code",
   "execution_count": null,
   "metadata": {},
   "outputs": [],
   "source": [
    "vis[\"sphere\"].set_object(g.Mesh(g.Sphere(1.0), g.MeshLambertMaterial(color=0xff22dd)))"
   ]
  },
  {
   "cell_type": "code",
   "execution_count": null,
   "metadata": {},
   "outputs": [],
   "source": [
    "vis[\"sphere\"].set_transform(tf.translation_matrix([1, 0, 0]))"
   ]
  },
  {
   "cell_type": "code",
   "execution_count": null,
   "metadata": {},
   "outputs": [],
   "source": [
    "vis[\"sphere\"].delete()"
   ]
  },
  {
   "cell_type": "code",
   "execution_count": null,
   "metadata": {},
   "outputs": [],
   "source": [
    "vis[\"robots/valkyrie/head\"].set_object(g.Mesh(\n",
    "    g.ObjMeshGeometry.from_file(os.path.join(meshcat.viewer_assets_path(), \"data/head_multisense.obj\")),\n",
    "    g.MeshLambertMaterial(\n",
    "        map=g.ImageTexture(\n",
    "            image=g.PngImage.from_file(os.path.join(meshcat.viewer_assets_path(), \"data/HeadTextureMultisense.png\"))\n",
    "        )\n",
    "    )\n",
    "))"
   ]
  },
  {
   "cell_type": "code",
   "execution_count": null,
   "metadata": {},
   "outputs": [],
   "source": [
    "verts = np.random.random(3, 100000) + np.array([[0.5, 0.5, 0.5]]).T\n",
    "vis[\"perception/pointclouds/random\"].set_object(g.PointCloud(verts, verts))\n",
    "vis[\"perception/pointclouds/random\"].set_transform(tf.translation_matrix([0, 3, 1]))"
   ]
  },
  {
   "cell_type": "code",
   "execution_count": null,
   "metadata": {},
   "outputs": [],
   "source": [
    "cart_pole = vis[\"cart_pole\"]\n",
    "cart_pole.delete()\n",
    "cart = cart_pole[\"cart\"]\n",
    "pivot = cart[\"pivot\"]\n",
    "pole = pivot[\"pole\"]\n",
    "cart.set_object(g.Box([0.5, 0.3, 0.2]))\n",
    "pole.set_object(g.Box([1, 0.05, 0.05]))\n",
    "pole.set_transform(tf.translation_matrix([0.5, 0, 0]))\n",
    "pivot.set_transform(tf.rotation_matrix(-np.pi/2, [0, 1, 0]))"
   ]
  },
  {
   "cell_type": "code",
   "execution_count": null,
   "metadata": {},
   "outputs": [],
   "source": [
    "cart.set_transform(tf.translation_matrix([0.5, 0, 0]))"
   ]
  },
  {
   "cell_type": "code",
   "execution_count": null,
   "metadata": {},
   "outputs": [],
   "source": [
    "pivot.set_transform(tf.rotation_matrix(-np.pi/4, [0, 1, 0]))"
   ]
  },
  {
   "cell_type": "code",
   "execution_count": null,
   "metadata": {},
   "outputs": [],
   "source": []
  }
 ],
 "metadata": {
  "kernelspec": {
   "display_name": "Python 3",
   "language": "python",
   "name": "python3"
  },
  "language_info": {
   "codemirror_mode": {
    "name": "ipython",
    "version": 3
   },
   "file_extension": ".py",
   "mimetype": "text/x-python",
   "name": "python",
   "nbconvert_exporter": "python",
   "pygments_lexer": "ipython3",
   "version": "3.5.2"
  }
 },
 "nbformat": 4,
 "nbformat_minor": 2
}
