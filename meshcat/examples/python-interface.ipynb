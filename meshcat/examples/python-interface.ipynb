{
 "cells": [
  {
   "cell_type": "code",
   "execution_count": null,
   "metadata": {},
   "outputs": [],
   "source": [
    "import sys\n",
    "sys.path.append(\"../..\")"
   ]
  },
  {
   "cell_type": "code",
   "execution_count": null,
   "metadata": {},
   "outputs": [],
   "source": [
    "import numpy as np\n",
    "import os\n",
    "import time"
   ]
  },
  {
   "cell_type": "code",
   "execution_count": null,
   "metadata": {},
   "outputs": [],
   "source": [
    "import meshcat\n",
    "import meshcat.visualizer as v\n",
    "import meshcat.geometry as g"
   ]
  },
  {
   "cell_type": "code",
   "execution_count": null,
   "metadata": {},
   "outputs": [],
   "source": [
    "vis = v.Visualizer()\n",
    "\n",
    "vis.jupyter_cell()"
   ]
  },
  {
   "cell_type": "code",
   "execution_count": null,
   "metadata": {},
   "outputs": [],
   "source": [
    "vis[\"box\"].set_object(g.Mesh(g.Box([0.2, 0.1, 0.1])))"
   ]
  },
  {
   "cell_type": "code",
   "execution_count": null,
   "metadata": {},
   "outputs": [],
   "source": [
    "for theta in np.linspace(0, 2 * np.pi, 200):\n",
    "    vis[\"box\"].set_transform(position=[1., 0, 0], quaternion=[0, 0, np.sin(theta/2), np.cos(theta/2)])\n",
    "    time.sleep(0.005)"
   ]
  },
  {
   "cell_type": "code",
   "execution_count": null,
   "metadata": {},
   "outputs": [],
   "source": [
    "vis[\"box\"].delete()"
   ]
  },
  {
   "cell_type": "code",
   "execution_count": null,
   "metadata": {},
   "outputs": [],
   "source": [
    "vis[\"robots/valkyrie/head\"].set_object(g.Mesh(\n",
    "    g.ObjMeshGeometry.from_file(os.path.join(meshcat.viewer_assets_path(), \"data/head_multisense.obj\")),\n",
    "    g.MeshLambertMaterial(\n",
    "        map=g.ImageTexture(\n",
    "            image=g.PngImage.from_file(os.path.join(meshcat.viewer_assets_path(), \"data/HeadTextureMultisense.png\"))\n",
    "        )\n",
    "    )\n",
    "))"
   ]
  },
  {
   "cell_type": "code",
   "execution_count": null,
   "metadata": {},
   "outputs": [],
   "source": [
    "verts = np.random.randn(3, 100000) + np.array([[0.5, 0.5, 0.5]]).T\n",
    "vis[\"perception/pointclouds/random\"].set_object(g.PointCloud(verts, verts))\n",
    "vis[\"perception/pointclouds/random\"].set_transform(position=[0, 3, 0])"
   ]
  },
  {
   "cell_type": "code",
   "execution_count": null,
   "metadata": {},
   "outputs": [],
   "source": []
  }
 ],
 "metadata": {
  "kernelspec": {
   "display_name": "Python 3",
   "language": "python",
   "name": "python3"
  },
  "language_info": {
   "codemirror_mode": {
    "name": "ipython",
    "version": 3
   },
   "file_extension": ".py",
   "mimetype": "text/x-python",
   "name": "python",
   "nbconvert_exporter": "python",
   "pygments_lexer": "ipython3",
   "version": "3.5.2"
  }
 },
 "nbformat": 4,
 "nbformat_minor": 2
}
