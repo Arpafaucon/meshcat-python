{
 "cells": [
  {
   "cell_type": "code",
   "execution_count": 1,
   "metadata": {},
   "outputs": [],
   "source": [
    "from ipykernel.comm import Comm\n",
    "from IPython.display import HTML\n",
    "from IPython import get_ipython\n",
    "import time"
   ]
  },
  {
   "cell_type": "code",
   "execution_count": 57,
   "metadata": {},
   "outputs": [
    {
     "data": {
      "text/html": [
       "\n",
       "<div>\n",
       "<iframe srcdoc=\"\n",
       "&lt;html&gt;\n",
       "&lt;body&gt;\n",
       "\n",
       "&lt;div id=&quot;visualizer&quot;&gt;\n",
       "(no data received yet)\n",
       "&lt;/div&gt;\n",
       "\n",
       "&lt;/body&gt;\n",
       "\n",
       "&lt;script&gt;\n",
       "// Get a handle to the `visualizer` div\n",
       "const visualizer = document.getElementById(&quot;visualizer&quot;);\n",
       "\n",
       "// Set the contents of `visualizer`. Eventually, this could easily call the actual \n",
       "// command handler in meshcat.\n",
       "function handle_message(msg) {\n",
       "  console.log(&quot;handle_message:&quot;, msg);\n",
       "    visualizer.innerHTML = msg[&quot;command&quot;];\n",
       "}\n",
       "\n",
       "// Register a communication channel, and call `handle_message` on each new command update\n",
       "window.parent.Jupyter.notebook.kernel.comm_manager.register_target('my_comm_target_name',\n",
       "    function(comm, msg) {\n",
       "        comm.on_msg(function(msg) {\n",
       "          console.log('msg:', msg);\n",
       "          handle_message(msg[&quot;content&quot;][&quot;data&quot;]);\n",
       "        });\n",
       "        comm.on_close(function(msg) {console.log('closed')});\n",
       "    });\n",
       "\n",
       "\n",
       "&lt;/script&gt;\n",
       "&lt;/html&gt;\n",
       "\"></iframe>\n",
       "</div>\n"
      ],
      "text/plain": [
       "<IPython.core.display.HTML object>"
      ]
     },
     "execution_count": 57,
     "metadata": {},
     "output_type": "execute_result"
    }
   ],
   "source": [
    "# `target` is just a unique string key. We could generate a new one as a UUID for each `Visualizer`\n",
    "target = \"my_comm_target_name\"\n",
    "\n",
    "\n",
    "# The body of the iframe. This contains a placeholder `div` (which could become a full MeshCat visualizer)\n",
    "# and a little bit of javascript to register a comm channel using the name `target`\n",
    "srcdoc = \"\"\"\n",
    "<html>\n",
    "<body>\n",
    "\n",
    "<div id=\"visualizer\">\n",
    "(no data received yet)\n",
    "</div>\n",
    "\n",
    "</body>\n",
    "\n",
    "<script>\n",
    "// Get a handle to the `visualizer` div\n",
    "const visualizer = document.getElementById(\"visualizer\");\n",
    "\n",
    "// Set the contents of `visualizer`. Eventually, this could easily call the actual \n",
    "// command handler in meshcat.\n",
    "function handle_message(msg) {\n",
    "  console.log(\"handle_message:\", msg);\n",
    "    visualizer.innerHTML = msg[\"command\"];\n",
    "}\n",
    "\n",
    "// Register a communication channel, and call `handle_message` on each new command update\n",
    "window.parent.Jupyter.notebook.kernel.comm_manager.register_target('%s',\n",
    "    function(comm, msg) {\n",
    "        comm.on_msg(function(msg) {\n",
    "          console.log('msg:', msg);\n",
    "          handle_message(msg[\"content\"][\"data\"]);\n",
    "        });\n",
    "        comm.on_close(function(msg) {console.log('closed')});\n",
    "    });\n",
    "\n",
    "\n",
    "</script>\n",
    "</html>\n",
    "\"\"\" %target\n",
    "\n",
    "# It's not web dev if you're not escaping something!\n",
    "def srcdoc_escape(text):\n",
    "    return text.replace(\"<\", \"&lt;\").replace(\">\", \"&gt;\").replace(\"\\\"\", \"&quot;\")\n",
    "\n",
    "\n",
    "# Render an iframe using the above `srcdoc` as its body. \n",
    "HTML(\"\"\"\n",
    "<div>\n",
    "<iframe srcdoc=\"{:s}\"></iframe>\n",
    "</div>\n",
    "\"\"\".format(srcdoc_escape(srcdoc)))\n"
   ]
  },
  {
   "cell_type": "code",
   "execution_count": 59,
   "metadata": {},
   "outputs": [],
   "source": [
    "# Open the channel from Python.\n",
    "command_channel = Comm(target_name=target)"
   ]
  },
  {
   "cell_type": "code",
   "execution_count": 60,
   "metadata": {},
   "outputs": [],
   "source": [
    "# Verify that we can send messages and cause things to happen in javascript\n",
    "for i in range(10):\n",
    "    command_channel.send({\"command\": i})\n",
    "    time.sleep(1)"
   ]
  }
 ],
 "metadata": {
  "kernelspec": {
   "display_name": "Python 3",
   "language": "python",
   "name": "python3"
  },
  "language_info": {
   "codemirror_mode": {
    "name": "ipython",
    "version": 3
   },
   "file_extension": ".py",
   "mimetype": "text/x-python",
   "name": "python",
   "nbconvert_exporter": "python",
   "pygments_lexer": "ipython3",
   "version": "3.6.9"
  }
 },
 "nbformat": 4,
 "nbformat_minor": 2
}
